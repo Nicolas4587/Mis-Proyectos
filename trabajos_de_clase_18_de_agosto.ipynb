{
  "nbformat": 4,
  "nbformat_minor": 0,
  "metadata": {
    "colab": {
      "provenance": [],
      "collapsed_sections": []
    },
    "kernelspec": {
      "name": "python3",
      "display_name": "Python 3"
    },
    "language_info": {
      "name": "python"
    }
  },
  "cells": [
    {
      "cell_type": "code",
      "execution_count": null,
      "metadata": {
        "id": "5tR4vyYBPW9q",
        "colab": {
          "base_uri": "https://localhost:8080/",
          "height": 416
        },
        "outputId": "47175144-0d95-483e-fe12-7ac1185d1947"
      },
      "outputs": [
        {
          "name": "stdout",
          "output_type": "stream",
          "text": [
            "ingrese un numero dividendo0\n"
          ]
        },
        {
          "output_type": "error",
          "ename": "KeyboardInterrupt",
          "evalue": "ignored",
          "traceback": [
            "\u001b[0;31m---------------------------------------------------------------------------\u001b[0m",
            "\u001b[0;31mKeyboardInterrupt\u001b[0m                         Traceback (most recent call last)",
            "\u001b[0;32m<ipython-input-5-d0a3203ceeae>\u001b[0m in \u001b[0;36m<module>\u001b[0;34m\u001b[0m\n\u001b[1;32m      1\u001b[0m \u001b[0mx\u001b[0m\u001b[0;34m=\u001b[0m\u001b[0mint\u001b[0m\u001b[0;34m(\u001b[0m\u001b[0minput\u001b[0m\u001b[0;34m(\u001b[0m\u001b[0;34m\"ingrese un numero dividendo\"\u001b[0m\u001b[0;34m)\u001b[0m\u001b[0;34m)\u001b[0m\u001b[0;34m\u001b[0m\u001b[0;34m\u001b[0m\u001b[0m\n\u001b[0;32m----> 2\u001b[0;31m \u001b[0mc\u001b[0m\u001b[0;34m=\u001b[0m\u001b[0mint\u001b[0m\u001b[0;34m(\u001b[0m\u001b[0minput\u001b[0m\u001b[0;34m(\u001b[0m\u001b[0;34m\"ingrese un numero divisor\"\u001b[0m \u001b[0;34m)\u001b[0m\u001b[0;34m)\u001b[0m\u001b[0;34m\u001b[0m\u001b[0;34m\u001b[0m\u001b[0m\n\u001b[0m\u001b[1;32m      3\u001b[0m \u001b[0;32mif\u001b[0m \u001b[0mc\u001b[0m\u001b[0;34m==\u001b[0m\u001b[0;36m0\u001b[0m\u001b[0;34m:\u001b[0m\u001b[0;34m\u001b[0m\u001b[0;34m\u001b[0m\u001b[0m\n\u001b[1;32m      4\u001b[0m   \u001b[0mprint\u001b[0m\u001b[0;34m(\u001b[0m\u001b[0;34m\"el resultado es indeterminado porque el divisor es 0 \"\u001b[0m\u001b[0;34m)\u001b[0m\u001b[0;34m\u001b[0m\u001b[0;34m\u001b[0m\u001b[0m\n\u001b[1;32m      5\u001b[0m \u001b[0;32melse\u001b[0m\u001b[0;34m:\u001b[0m\u001b[0;34m\u001b[0m\u001b[0;34m\u001b[0m\u001b[0m\n",
            "\u001b[0;32m/usr/local/lib/python3.7/dist-packages/ipykernel/kernelbase.py\u001b[0m in \u001b[0;36mraw_input\u001b[0;34m(self, prompt)\u001b[0m\n\u001b[1;32m    861\u001b[0m             \u001b[0mself\u001b[0m\u001b[0;34m.\u001b[0m\u001b[0m_parent_ident\u001b[0m\u001b[0;34m,\u001b[0m\u001b[0;34m\u001b[0m\u001b[0;34m\u001b[0m\u001b[0m\n\u001b[1;32m    862\u001b[0m             \u001b[0mself\u001b[0m\u001b[0;34m.\u001b[0m\u001b[0m_parent_header\u001b[0m\u001b[0;34m,\u001b[0m\u001b[0;34m\u001b[0m\u001b[0;34m\u001b[0m\u001b[0m\n\u001b[0;32m--> 863\u001b[0;31m             \u001b[0mpassword\u001b[0m\u001b[0;34m=\u001b[0m\u001b[0;32mFalse\u001b[0m\u001b[0;34m,\u001b[0m\u001b[0;34m\u001b[0m\u001b[0;34m\u001b[0m\u001b[0m\n\u001b[0m\u001b[1;32m    864\u001b[0m         )\n\u001b[1;32m    865\u001b[0m \u001b[0;34m\u001b[0m\u001b[0m\n",
            "\u001b[0;32m/usr/local/lib/python3.7/dist-packages/ipykernel/kernelbase.py\u001b[0m in \u001b[0;36m_input_request\u001b[0;34m(self, prompt, ident, parent, password)\u001b[0m\n\u001b[1;32m    902\u001b[0m             \u001b[0;32mexcept\u001b[0m \u001b[0mKeyboardInterrupt\u001b[0m\u001b[0;34m:\u001b[0m\u001b[0;34m\u001b[0m\u001b[0;34m\u001b[0m\u001b[0m\n\u001b[1;32m    903\u001b[0m                 \u001b[0;31m# re-raise KeyboardInterrupt, to truncate traceback\u001b[0m\u001b[0;34m\u001b[0m\u001b[0;34m\u001b[0m\u001b[0;34m\u001b[0m\u001b[0m\n\u001b[0;32m--> 904\u001b[0;31m                 \u001b[0;32mraise\u001b[0m \u001b[0mKeyboardInterrupt\u001b[0m\u001b[0;34m(\u001b[0m\u001b[0;34m\"Interrupted by user\"\u001b[0m\u001b[0;34m)\u001b[0m \u001b[0;32mfrom\u001b[0m \u001b[0;32mNone\u001b[0m\u001b[0;34m\u001b[0m\u001b[0;34m\u001b[0m\u001b[0m\n\u001b[0m\u001b[1;32m    905\u001b[0m             \u001b[0;32mexcept\u001b[0m \u001b[0mException\u001b[0m \u001b[0;32mas\u001b[0m \u001b[0me\u001b[0m\u001b[0;34m:\u001b[0m\u001b[0;34m\u001b[0m\u001b[0;34m\u001b[0m\u001b[0m\n\u001b[1;32m    906\u001b[0m                 \u001b[0mself\u001b[0m\u001b[0;34m.\u001b[0m\u001b[0mlog\u001b[0m\u001b[0;34m.\u001b[0m\u001b[0mwarning\u001b[0m\u001b[0;34m(\u001b[0m\u001b[0;34m\"Invalid Message:\"\u001b[0m\u001b[0;34m,\u001b[0m \u001b[0mexc_info\u001b[0m\u001b[0;34m=\u001b[0m\u001b[0;32mTrue\u001b[0m\u001b[0;34m)\u001b[0m\u001b[0;34m\u001b[0m\u001b[0;34m\u001b[0m\u001b[0m\n",
            "\u001b[0;31mKeyboardInterrupt\u001b[0m: Interrupted by user"
          ]
        }
      ],
      "source": [
        "x=int(input(\"ingrese un numero dividendo\"))\n",
        "c=int(input(\"ingrese un numero divisor\" ))\n",
        "if c==0:\n",
        "  print(\"el resultado es indeterminado porque el divisor es 0 \")\n",
        "else:\n",
        "  v=(x/c)\n",
        "  print(\"El resultado de la division es \", v)\n",
        "  b=(x % c)\n",
        "  if b==0:\n",
        "    print(\"La division es exacta porque el modulo da \", b)\n",
        "  else:\n",
        "    print(\"La division no es exacta porque el modulo da \", b)\n"
      ]
    },
    {
      "cell_type": "markdown",
      "source": [
        "Mismo con Elif"
      ],
      "metadata": {
        "id": "wrV0jxsWRTfo"
      }
    },
    {
      "cell_type": "code",
      "source": [
        "x=int(input(\"Ingrese primer número \"))\n",
        "y=int(input(\"Ingrese segundo número \"))\n",
        "if int(y==0):\n",
        "  print(\"Error\")\n",
        "elif y>0:\n",
        "  print(x/y)\n",
        "  if int(x%y)==0:\n",
        "   print(\"La división es exacta\")\n",
        "else:\n",
        "  print(\"La división no es exacta\")\n",
        "  print(\"El residuo de la divisón es\", x%y)"
      ],
      "metadata": {
        "id": "4ao-XJCsROAv",
        "colab": {
          "base_uri": "https://localhost:8080/"
        },
        "outputId": "40e15bb2-2f3c-4a63-e5f4-83ed5468ceb0"
      },
      "execution_count": null,
      "outputs": [
        {
          "output_type": "stream",
          "name": "stdout",
          "text": [
            "Ingrese primer número 5\n",
            "Ingrese segundo número 6\n",
            "0.8333333333333334\n"
          ]
        }
      ]
    },
    {
      "cell_type": "markdown",
      "source": [
        "#2"
      ],
      "metadata": {
        "id": "kAjprVVbTN7g"
      }
    },
    {
      "cell_type": "code",
      "source": [
        "num1 = int(input(\"Ingresa el primer número: \"))\n",
        "num2 = int(input(\"Ingresa el segundo número: \"))\n",
        "if num1 % num2 == 0:\n",
        "  print(\"El número\", num1, \"es múltiplo del número\", num2)\n",
        "elif num2 % num1 == 0:\n",
        "  print(\"El número\", num2, \"es múltiplo del número\", num1)\n",
        "else: \n",
        "  print(\"Los números no son múltiplos\")"
      ],
      "metadata": {
        "id": "CIkAkKM1Qrct",
        "colab": {
          "base_uri": "https://localhost:8080/"
        },
        "outputId": "0f0ce723-17f3-45b3-e54f-fa53eacdd674"
      },
      "execution_count": null,
      "outputs": [
        {
          "output_type": "stream",
          "name": "stdout",
          "text": [
            "Ingresa el primer número: 4\n",
            "Ingresa el segundo número: 12\n",
            "El número 12 es múltiplo del número 4\n"
          ]
        }
      ]
    },
    {
      "cell_type": "markdown",
      "source": [
        "##Orden de los Hermanos"
      ],
      "metadata": {
        "id": "trvJXANYVPQY"
      }
    },
    {
      "cell_type": "code",
      "source": [
        "e1=int(input(\"ingresa la primera edad\"))##edades\n",
        "e2=int(input(\"ingresa la segunda edad\"))\n",
        "e3=int(input(\"ingresa la tercera edad\"))\n",
        "\n",
        "edades=[e1,e2,e3] ##lista\n",
        "\n",
        "if e1==e2 and e1==e3:\n",
        "  print(\"son trillizos\")\n",
        "\n",
        "if e1==e2:\n",
        "  print(e1, \"y\" ,e2,\"son gemelos y su edad es\" ,e1)\n",
        "  if e1>e3:\n",
        "    print(\"el menor es\" ,e3)\n",
        "  else:\n",
        "    print(\"el mayor es\" ,e3)\n",
        "\n",
        "if e1==e3:\n",
        "  print(e1, \"y\" ,e3,\"son gemelos y su edad es\" ,e1)\n",
        "  if e1>e2:\n",
        "    print(\"el menor es\" ,e2)\n",
        "  else:\n",
        "    print(\"el mayor es\" ,e2)\n",
        "  \n",
        "if e2==e3:\n",
        "  print(e2, \"y\" ,e3,\"son gemelos y su edad es\" ,e2)\n",
        "  if e2>e1:\n",
        "    print(\"el menor es\" ,e1)\n",
        "  else:\n",
        "    print(\"el mayor es\" ,e1)\n",
        "\n",
        "print(\"la edad del menor es\" ,min(edades), \"edad\")\n",
        "print(\"la edad del medio es\" ,(e1+e2+e3)-min(edades)-max(edades), \"edad\")\n",
        "print(\"la edad del mayor es\" ,max(edades), \"edad\")\n",
        "\n",
        "\n",
        "  \n"
      ],
      "metadata": {
        "colab": {
          "base_uri": "https://localhost:8080/"
        },
        "id": "UXmFs7SZVOEL",
        "outputId": "198fe054-800a-4dc0-cc81-97300e620200"
      },
      "execution_count": null,
      "outputs": [
        {
          "output_type": "stream",
          "name": "stdout",
          "text": [
            "ingresa la primera edad5\n",
            "ingresa la primera edad5\n",
            "ingresa la primera edad4\n",
            "5 y 5 son gemelos y su edad es 5\n",
            "el menor es 4\n",
            "la edad del menor es 4 edad\n",
            "la edad del menor es 5 edad\n",
            "la edad del mayor es 5 edad\n"
          ]
        }
      ]
    },
    {
      "cell_type": "code",
      "source": [
        "a=int(input(\"Ingrese la edad del primer hermano \"))\n",
        "b=int(input(\"Ingrese la edad del segundo hermano \"))\n",
        "c=int(input(\"Ingrese la edad del tercer hermano \"))\n",
        "if a>b>c:\n",
        "  print(str(a), 'es la edad del mayor',str(b),'es la edad del hermano del medio',str(c),'es la edad del menor')\n",
        "if a>c>b:\n",
        "  print(str(a), 'es la edad del mayor',str(c),'es la edad del hermano del medio',str(b),'es la edad del menor')\n",
        "if b>a>c:\n",
        "  print(str(b), 'es la edad del mayor',str(a),'es la edad del hermano del medio',str(c),'es la edad del menor')\n",
        "if b>c>a:\n",
        "  print(str(b), 'es la edad del mayor',str(c),'es la edad del hermano del medio',str(a),'es la edad del menor')\n",
        "if c>b>a:\n",
        "  print(str(c), 'es la edad del mayor',str(b),'es la edad del hermano del medio',str(a),'es la edad del menor')\n",
        "if c>a>b:\n",
        "  print(str(c), 'es la edad del mayor',str(a),'es la edad del hermano del medio',str(b),'es la edad del menor')\n",
        "if a==b==c:\n",
        "  print('los hermanos tienen la misma edad', str(a),'años')\n",
        "\n",
        "  "
      ],
      "metadata": {
        "colab": {
          "base_uri": "https://localhost:8080/"
        },
        "id": "Ck0dvB1hY5JP",
        "outputId": "64876905-9009-4683-95d5-5e0378b239b0"
      },
      "execution_count": null,
      "outputs": [
        {
          "output_type": "stream",
          "name": "stdout",
          "text": [
            "Ingrese la edad del primer hermano 2\n",
            "Ingrese la edad del segundo hermano 2\n",
            "Ingrese la edad del tercer hermano 2\n",
            "los hermanos tienen la misma edad 2 años\n"
          ]
        }
      ]
    },
    {
      "cell_type": "code",
      "source": [
        "E=[] \n",
        "for i in range (0,3):\n",
        " val=int(input(\"Ingrese su edad\"))\n",
        " E.append(val)\n",
        "E.sort()\n",
        "print(E)\n",
        "\n",
        "if E[0]==E[1] and E[0]==E[2]:\n",
        " print(\"Los hermanos son trillisos\")\n",
        "elif E[0]==E[1] or E==[1] or E[1]==E[2]:\n",
        "  print(\"Los hermanos son gemelos\")\n",
        "\n"
      ],
      "metadata": {
        "colab": {
          "base_uri": "https://localhost:8080/"
        },
        "id": "jxX1r4Pmb7ee",
        "outputId": "32cfed84-c22a-4244-b535-123d7a568d0a"
      },
      "execution_count": null,
      "outputs": [
        {
          "output_type": "stream",
          "name": "stdout",
          "text": [
            "Ingrese su edad9\n",
            "Ingrese su edad10\n",
            "Ingrese su edad9\n",
            "[9, 9, 10]\n",
            "Los hermanos son gemelos\n"
          ]
        }
      ]
    },
    {
      "cell_type": "code",
      "source": [
        "print(\"ingrese la primera edad\")\n",
        "num1=int(input())\n",
        "print(\"ingrese la segunda edad\")\n",
        "num2=int(input())\n",
        "print(\"ingrese la tercera edad\")\n",
        "num3=int(input())\n",
        "if(num1<num2 and num2<3):\n",
        "  print(\"\",num1,\"-\",num2,\"-\",num3)\n",
        "elif(num2<num1 and num1<num3):\n",
        "  print(\"\",num2,\"-\",num1,\"-\",num3)\n",
        "elif(num3<num1 and num1<num2):\n",
        "  print(\"\",num2,\"-\",num1,\"-\",num3)\n",
        "elif(num3<num2 and num2<num1):\n",
        "  print(\"\",num3,\"-\",num2,\"-\",num1)\n",
        "elif(num1<num3 and num3<num2):\n",
        "  print(\"\",num1,\"-\",num3,\"-\",num2)\n",
        "elif(num2<num3 and num3<num1):\n",
        "  print(\"\",num2,\"-\",num3,\"-\",num1)\n",
        "else:\n",
        "  print(\"hay gemelos\")\n"
      ],
      "metadata": {
        "colab": {
          "base_uri": "https://localhost:8080/"
        },
        "id": "REagYX_MgkkZ",
        "outputId": "1f609920-62a5-44e1-9eb8-ffcb6c03a7a0"
      },
      "execution_count": null,
      "outputs": [
        {
          "output_type": "stream",
          "name": "stdout",
          "text": [
            "ingrese la primera edad\n",
            "4\n",
            "ingrese la segunda edad\n",
            "5\n",
            "ingrese la tercera edad\n",
            "7\n",
            "hay gemelos\n"
          ]
        }
      ]
    },
    {
      "cell_type": "code",
      "source": [
        "nombre=str(input(\"Por favor digita tu nombre\"))\n",
        "cc=int(input(\"Por favor digita tu cédula\"))\n",
        "salario=int(input(\"Por favor digita tu salario en pesos colombianos\"))\n",
        "propiedades=int(input(\"Por favor digita la cantidad de propiedades que están a tu nombre\"))\n",
        "if salario>10000000 and propiedades>5:\n",
        "  print(\"Apreciad@\" f\" {nombre}\" \" tienes que pagar el impuesto de renta ya que tu salario es mayor a 10000000 y tienes mas de 5 propiedades\")\n",
        "else:\n",
        "  print(\"No tienes que pagar el impuesto de renta\")"
      ],
      "metadata": {
        "colab": {
          "base_uri": "https://localhost:8080/"
        },
        "id": "euwU9oKgkhC0",
        "outputId": "14f9c28a-3119-43c7-b940-1233fd5239dc"
      },
      "execution_count": null,
      "outputs": [
        {
          "output_type": "stream",
          "name": "stdout",
          "text": [
            "Por favor digita tu nombreAna\n",
            "Por favor digita tu cédula1097093034\n",
            "Por favor digita tu salario en pesos colombianos12000000\n",
            "Por favor digita la cantidad de propiedades que están a tu nombre6\n",
            "Apreciad@Anatienes que pagar el impuesto de renta ya que tu salario es mayor a 10000000 y tienes mas de 5 propiedades\n"
          ]
        }
      ]
    },
    {
      "cell_type": "markdown",
      "source": [],
      "metadata": {
        "id": "4ijvUQeGo4DR"
      }
    },
    {
      "cell_type": "markdown",
      "source": [
        "###Ejercicio 4 \n",
        "######\tDIAN le ha contratado para identificar si una persona debe pagar impuesto de renta o no. ¿Qué datos debería suministrar? Escriba un programa con su solución.\n",
        "######Las personas naturales que cumplan con alguna de las siguientes condiciones deben declarar el impuesto sobre la renta 2022:\n",
        "\n",
        "1) Que el patrimonio bruto al término del año gravable 2021 sea igual o superior a $163.386.000\n",
        "\n",
        "2) Que los ingresos totales del respectivo ejercicio gravable sean iguales o superiores a $50.831.000\n",
        "\n",
        "3) Que los consumos mediante tarjeta de crédito sean iguales o superiores a $50.831.000\n",
        "\n",
        "4) Que el valor total de las compras y consumos sean igual o superior a $50.831.000\n",
        "\n",
        "5) Que el valor total acumulado de consignaciones bancarias, depósitos o inversiones financieras sean igual o superior a $50.831.000\n"
      ],
      "metadata": {
        "id": "t4SGyf4oXssU"
      }
    },
    {
      "cell_type": "code",
      "source": [],
      "metadata": {
        "id": "qVLfOCc_o6NV"
      },
      "execution_count": null,
      "outputs": []
    },
    {
      "cell_type": "code",
      "source": [
        "p=int(input(\"Ingrese el valor de su patrimonio bruto \"))\n",
        "i=int(input(\"Ingrese el calor de sus ingresos totales del año \"))\n",
        "t=int(input(\"Ingrese el valor de sus consumos en la tarjeta de crédito \"))\n",
        "c=int(input(\"Ingrese el valor total de compras y consumo del año \"))\n",
        "b=int(input(\"Ingrese el valor total acumulado de consignaciones bancarias, depósitos e inversiones financieras \"))\n",
        "if p==163386000 or p>163386000:\n",
        "  print(\"Usted debe declarar impuesto de renta\")\n",
        "elif i==50831000 or i>50831000:\n",
        "  print(\"Usted debe declarar impuesto de renta\")\n",
        "elif t==50831000 or t>50831000:\n",
        "  print(\"Usted debe declarar impuesto de renta\")\n",
        "elif c==50831000 or c>50831000:\n",
        "  print(\"Usted debe declarar impuesto de renta\")\n",
        "elif b==50831000 or b>50831000:\n",
        "  print(\"Usted debe declarar impuesto de renta\")\n",
        "else: print(\"Usted no debe declarar impuesto de renta \")"
      ],
      "metadata": {
        "colab": {
          "base_uri": "https://localhost:8080/"
        },
        "id": "T5V8wyTOYHRG",
        "outputId": "94a378b9-ec70-4b6f-cac3-db76fa433f28"
      },
      "execution_count": null,
      "outputs": [
        {
          "output_type": "stream",
          "name": "stdout",
          "text": [
            "Ingrese el valor de su patrimonio bruto 7\n",
            "Ingrese el calor de sus ingresos totales del año 60000000\n",
            "Ingrese el valor de sus consumos en la tarjeta de crédito 4\n",
            "Ingrese el valor total de compras y consumo del año 56\n",
            "Ingrese el valor total acumulado de consignaciones bancarias,depósitos e inversiones financieras 3\n",
            "Usted debe declarar impuesto de renta\n"
          ]
        }
      ]
    },
    {
      "cell_type": "code",
      "source": [],
      "metadata": {
        "id": "WMFRyW9epaJR"
      },
      "execution_count": null,
      "outputs": []
    },
    {
      "cell_type": "markdown",
      "source": [
        "universidad pertenece.\n",
        "Si el código empieza con U y tiene 8 dígitos, pertenece a la UNAB\n",
        "\n",
        "Si los cuatro primeros dígitos es mayor a 1950 , pertenece a la UIS.\n",
        "\n",
        "Si el código empieza con A y tres ceros seguidos, pertenece a los ANDES.\n",
        "\n",
        "1000 exp. adicional: Si el código de la UNAB termina en 26, debe imprimir que es ingeniero electrónico. Si termina en 32, ingeniero de sistemas. Si termina en 50, pertenece a ingeniería de administración de empresas.\n",
        "\n",
        "1000 xp. Adicional: Defina códigos con los dos últimos caracteres para la UIS y ANDES, de las mismas carreras"
      ],
      "metadata": {
        "id": "rvt1K9tYppVY"
      }
    },
    {
      "cell_type": "code",
      "source": [
        "codigo=input(\"Ingresar codigo de estudiante\")\n",
        "cod=str(codigo.strip().lower())\n",
        "longitud=len(cod)\n",
        "uis=(cod[0:4])\n",
        "if cod.startswith(\"u\") and longitud==9:\n",
        "  print(\"Eres un estudiante de la unab\")\n",
        "elif cod.startswith(\"a000\") :\n",
        "  print(\"Eres un estudiante de los andes\")\n",
        "elif int(uis)>=1950:\n",
        "  print(\"Eres estudiante UIS\")\n",
        "  if cod.endswith(\"52\"):\n",
        "    print(\"derecho\")\n",
        "  else:\n",
        "    print(\"ingresa codigo valido\")\n",
        "else:\n",
        "  print(\"Ingresa un codigo valido\")\n"
      ],
      "metadata": {
        "colab": {
          "base_uri": "https://localhost:8080/"
        },
        "id": "4kD7p9lNpqfP",
        "outputId": "e89795ce-23d7-4083-862b-72b7b47c1a64"
      },
      "execution_count": null,
      "outputs": [
        {
          "output_type": "stream",
          "name": "stdout",
          "text": [
            "Ingresar codigo de estudiante195555552\n",
            "Eres estudiante UIS\n",
            "derecho\n"
          ]
        }
      ]
    },
    {
      "cell_type": "code",
      "source": [
        "a=str(input(\"ingresa tu codigo de estudiante\"))\n",
        "if a[0]==\"U\":\n",
        " contador=0\n",
        " for i in range (1,9):\n",
        "   contador+=1\n",
        " if contador==8:\n",
        "  print(\"usuario UNAB\")\n",
        "  if int (a[7])==2 and int(a[8]==6):\n",
        "    print(\"Eres ingeniero electronico\")\n",
        "  elif int (a[7])==3 and int(a[8]==2):\n",
        "    print(\"Eres ingeniero en sistemas\")\n",
        "  elif int (a[7])==5 and int(a[8]==0):\n",
        "    print(\"Eres ingeniero en administracion de empresas\")\n",
        "\n",
        "elif a[0]==\"A\":\n",
        "  int(a[1]==0 and a[2]==0 and a[3]==0 )\n",
        "  print(\"Usuario ANDES\")\n",
        "  if int (a[7])==2 and int(a[8]==6):\n",
        "    print(\"Eres ingeniero electronico\")\n",
        "  elif int (a[7])==3 and int(a[8]==2):\n",
        "    print(\"Eres ingeniero en sistemas\")\n",
        "  elif int (a[7])==5 and int(a[8]==0):\n",
        "    print(\"Eres ingeniero en administracion de empresas\")\n",
        "\n",
        "elif int(a[0:4])>1950:\n",
        "  print(\"Usuario UIS\")\n",
        "  if int (a[5])==2 and int(a[6]==6):\n",
        "    print(\"Eres ingeniero electronico\")\n",
        "  elif int (a[5])==3 and int(a[6]==2):\n",
        "    print(\"Eres ingeniero en sistemas\")\n",
        "  elif int (a[5])==5 and int(a[6]==0):\n",
        "    print(\"Eres ingeniero en administracion de empresas\")\n",
        "\n",
        "  "
      ],
      "metadata": {
        "colab": {
          "base_uri": "https://localhost:8080/"
        },
        "id": "7KS7JURHsuH_",
        "outputId": "e346f94a-a3e9-498b-fe53-9308adbf3cc5"
      },
      "execution_count": null,
      "outputs": [
        {
          "output_type": "stream",
          "name": "stdout",
          "text": [
            "ingresa tu codigo de estudiante2200366\n",
            "Usuario UIS\n"
          ]
        }
      ]
    },
    {
      "cell_type": "code",
      "source": [
        "a=float(input(\"Ingrese primera nota \"))\n",
        "b=float(input(\"Ingrese segunda nota \"))\n",
        "c=float(input(\"Ingrese tercera nota \"))\n",
        "d=float(input(\"Ingrese cuarta nota \"))\n",
        "t=(a+b+c+d)/4\n",
        "print(t,\"Es el promedio\")\n",
        "if t>4.5:\n",
        "  print(\"Estás eximido\")\n",
        "if t >=3.5 and t<=4.5:\n",
        "  print(\"Debes presentar exámen final\")\n",
        "if t >=3.0 and t<=3.5:\n",
        "  print(\"Debes presentar exámen final y se te asignará un trabajo\")\n",
        "if t>=2.0 and t<=3.0:\n",
        "  print(\"Debes presentar exámen de nivelación\")\n",
        "if t<2.0:\n",
        "  print(\"Paila la materia\")"
      ],
      "metadata": {
        "colab": {
          "base_uri": "https://localhost:8080/"
        },
        "id": "huxPAwmowBDd",
        "outputId": "7c49824d-7386-4896-9e57-5b0e9951dd64"
      },
      "execution_count": null,
      "outputs": [
        {
          "output_type": "stream",
          "name": "stdout",
          "text": [
            "Ingrese primera nota 4.51\n",
            "Ingrese segunda nota 4.51\n",
            "Ingrese tercera nota 4.51\n",
            "Ingrese cuarta nota 4.51\n",
            "4.51 Es el promedio\n",
            "Estás eximido\n"
          ]
        }
      ]
    }
  ]
}