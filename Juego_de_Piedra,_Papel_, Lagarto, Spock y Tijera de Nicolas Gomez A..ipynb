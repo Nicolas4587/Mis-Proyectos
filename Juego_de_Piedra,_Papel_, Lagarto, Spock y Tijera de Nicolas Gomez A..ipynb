{
  "cells": [
    {
      "cell_type": "markdown",
      "metadata": {
        "id": "g5Hdm796pUV8"
      },
      "source": [
        "##Piedra , Papel o Tijeras"
      ]
    },
    {
      "cell_type": "code",
      "execution_count": 22,
      "metadata": {
        "colab": {
          "base_uri": "https://localhost:8080/"
        },
        "id": "Zu9zYazppTAL",
        "outputId": "d2f9ef8c-2507-42ad-f660-5002fe2e9577"
      },
      "outputs": [
        {
          "name": "stdout",
          "output_type": "stream",
          "text": [
            "Bienvenido al juego de Piedra, Papel, Tijera, Spock o Lagarto \n",
            "elige una opcion: Spock\n",
            "El ordenador a elegido'Piedra'. Spock vaporiza a piedra . Tu ganas\n",
            "Bienvenido al juego de Piedra, Papel, Tijera, Spock o Lagarto \n",
            "elige una opcion: Finalizar\n"
          ]
        }
      ],
      "source": [
        "import random\n",
        "\n",
        "jugador = True\n",
        "\n",
        "while jugador:\n",
        "    print(\"Bienvenido al juego de Piedra, Papel, Tijera, Spock o Lagarto \")\n",
        "    ordenador = random.choice([\"Piedra\", \"Papel\", \"Tijera\", \"Lagarto\", \"Spock\"])\n",
        "    jugador = input(\"elige una opción: \")\n",
        "\n",
        "    if jugador == \"Piedra\":\n",
        "        if ordenador == \"Piedra\":\n",
        "             print(\" El ordenador a eligido  'Piedra' . Empate, nadie gana.\")\n",
        "        elif ordenador == \"Papel\":\n",
        "             print(\"El ordenador a elegido 'Papel'. El papel envuelve a toda la piedra.  Tu pierdes.\")\n",
        "        elif ordenador == \"Lagarto\":\n",
        "           print(\"El ordenador a elegido'Lagarto'. Piedra aplasta a lagarto. Tu ganas\")\n",
        "        elif ordenador == \"Spock\":\n",
        "           print(\"El ordenador a elegido'Spock'. Spock vaporiza a piedra. Tu pierdes\")     \n",
        "        else:\n",
        "             print(\"El ordenador a elegido 'Tijera'. La piedra parte y daña las tijeras. Tu ganas.\")\n",
        "\n",
        "    if jugador == \"Papel\":\n",
        "        if ordenador == \"Piedra\":\n",
        "            print(\"El ordenador a elegido 'Piedra'. El papel envuelve a toda la piedra. Tu ganas.\")\n",
        "        elif ordenador == \"Papel\":\n",
        "            print(\"El ordenador a elegido 'Papel'. Empate, nadie gana.\")\n",
        "        elif ordenador == \"Lagarto\":\n",
        "           print(\"El ordenador a elegido'Lagarto'. El lagarto se come el papel. Tu pierdes\")\n",
        "        elif ordenador == \"Spock\":\n",
        "           print(\"El ordenador a elegido'Spock'. Papel desautoriza a spock. Tu ganas\")            \n",
        "        else:\n",
        "            print(\"El ordenador a elegido 'Tijera'. Las tijeras pueden cortar el papel. Tu pierdes.\")\n",
        "\n",
        "    if  jugador == \"Tijera\":\n",
        "        if ordenador == \"Piedra\":\n",
        "            print(\"El ordenador a elegido 'Piedra' . La piedra parte y daña las tijeras. Tu pierdes\")\n",
        "        elif ordenador == \"Papel\":\n",
        "            print(\"El ordenador a elegido 'Papel' . Las tijeras pueden cortar el papel. Tu ganas\")\n",
        "        elif ordenador == \"Lagarto\":\n",
        "           print(\"El ordenador a elegido'Lagarto'. Tijera decapita al lagarto. Empate, nadie gana\")\n",
        "        elif ordenador == \"Spock\":\n",
        "           print(\"El ordenador a elegido'Spock'. Lagarto envenena a spock. Tu ganas\")      \n",
        "        else:\n",
        "            print(\"El ordenador a elegido 'Tijera'. Empate , nadie gana.\")\n",
        "    \n",
        "    \n",
        "    if jugador == \"Lagarto\":\n",
        "        if ordenador == \"Piedra\":\n",
        "           print(\"El ordenador a elegido 'Piedra'. Piedra aplasta a lagarto. Tu pierdes\")\n",
        "        elif ordenador == \"papel\":\n",
        "           print(\"El ordenador a elegido 'Papel'. Lagarto come papel. Tu Ganas\")\n",
        "        elif ordenador == \"tijera\":\n",
        "           print(\"El ordenador a elegido'Tijera'. Tijera decapita al lagarto. Tu pierdes \")\n",
        "        elif ordenador == \"lagarto\":\n",
        "           print(\"El ordenador a elegido'Lagarto'. Lagarto se ve con lagarto y se hacen amigos. Empate, nadie gana\")\n",
        "        else:\n",
        "           print(\"El ordenador a elegido'Spock'. Lagarto envenena a spock. Tu ganas \") \n",
        "\n",
        "    if jugador == \"Spock\":\n",
        "        if ordenador == \"Piedra\":\n",
        "           print(\"El ordenador a elegido'Piedra'. Spock vaporiza a piedra . Tu ganas\")\n",
        "        elif ordenador == \"papel\":\n",
        "           print(\"El ordenador a elegido'Papel'. Papel desautoriza a spock. Tu pierdes\")\n",
        "        elif ordenador == \"Tijera\":\n",
        "           print(\"El ordenador a elegido'Tijera'.Spock rompe a tijera . Tu ganas\")\n",
        "        elif ordenador == \"Spock\":\n",
        "           print(\"El ordenador a elegido'Spock'. Spock se encuentran con spock y se saludan. Empate, nadie gana\")\n",
        "        else:\n",
        "           print(\"El ordenador a elegido'Lagarto'. Lagarto envenena a spock. Tu pierdes \") \n",
        "    if jugador == \"Finalizar\":\n",
        "       break          \n",
        "\n",
        "\n",
        "\n",
        "     \n",
        "        \n"
      ]
    },
    {
      "cell_type": "code",
      "source": [],
      "metadata": {
        "id": "ehDk4Ag-zV5i"
      },
      "execution_count": null,
      "outputs": []
    }
  ],
  "metadata": {
    "colab": {
      "name": "Juego de Piedra, Papel o tijeras para presentar",
      "provenance": []
    },
    "kernelspec": {
      "display_name": "Python 3",
      "name": "python3"
    },
    "language_info": {
      "name": "python"
    }
  },
  "nbformat": 4,
  "nbformat_minor": 0
}