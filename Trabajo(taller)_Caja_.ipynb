{
  "nbformat": 4,
  "nbformat_minor": 0,
  "metadata": {
    "colab": {
      "provenance": []
    },
    "kernelspec": {
      "name": "python3",
      "display_name": "Python 3"
    },
    "language_info": {
      "name": "python"
    }
  },
  "cells": [
    {
      "cell_type": "markdown",
      "source": [
        "##Hacer una caja(osea un Tienda).\n",
        "Negocios de comidas rapidas.\n",
        "\n",
        "#*generar la factura\n",
        "#*como va a pagar\n",
        "#*cuanto gano el restaurante\n",
        "#*saber cuantos combos 1-2-3 se vendieron"
      ],
      "metadata": {
        "id": "DDqenHyWwcom"
      }
    },
    {
      "cell_type": "code",
      "execution_count": null,
      "metadata": {
        "id": "kDYbZoNywQlg"
      },
      "outputs": [],
      "source": [
        "Tienda={\"combos\":[\"combos1\",\"combos2\",\"combos3\",\"combos4\"],\"gaseosas\":\"agua\"}\n",
        "\n"
      ]
    },
    {
      "cell_type": "code",
      "source": [
        "Tienda.get(\"combos\")"
      ],
      "metadata": {
        "colab": {
          "base_uri": "https://localhost:8080/"
        },
        "id": "7p2OBBZvyiWQ",
        "outputId": "d58d8f70-aee3-4c45-8178-6936bfa96729"
      },
      "execution_count": null,
      "outputs": [
        {
          "output_type": "execute_result",
          "data": {
            "text/plain": [
              "['combos1', 'combos2', 'combos3', 'combos4']"
            ]
          },
          "metadata": {},
          "execution_count": 10
        }
      ]
    },
    {
      "cell_type": "code",
      "source": [
        "print(\"bienvenido cajero automatico\")\n",
        " \n",
        "c = 5467\n",
        " \n",
        "x = int(input(\"ingrese su contraseña:\" ))\n",
        "def contraseña():\n",
        " \n",
        "\tif (x == c):\n",
        " \n",
        "\t\tprint(\"contraseña correcta\")\n",
        "\telse:\n",
        "\t\tprint(\"contraseña incorrecta\")\n",
        " \n",
        " \n",
        " \n",
        " \n",
        "contraseña()\n",
        " \n",
        " \n",
        "os.system(\"cls\")\n",
        " \n",
        "def menu():\n",
        "\tprint(\"menu\")\n",
        "\tprint(\"1. Depositar\")\n",
        "\tprint(\"2. retirar\")\n",
        "\tprint(\"3. ver saldo\")\n",
        " \n",
        " \n",
        "menu()\n",
        " \n",
        "monto=50000\n",
        " \n",
        "def depositar():\n",
        " \n",
        "\tdep = int(input(\"ingrese su monto a depositar:\"))\n",
        "\tprint(\"usted a depositado\",dep)\n",
        " \n",
        " \n",
        "depositar()\n",
        " \n",
        " \n",
        " \n",
        " \n",
        "os.system(\"cls\")\n",
        " \n",
        " \n",
        "menu()\n",
        " \n",
        " \n",
        "def giro():\n",
        "\tgirar=int(input(\"cuanto desea girar: \"))\n",
        "\tprint(\"su monto actual es\", monto - girar)\n",
        "\tprint(\"usted a retirado\" , girar)\n",
        " \n",
        "giro()\n",
        " \n",
        "os.system(\"cls\")\n",
        " \n",
        "menu()\n",
        " \n",
        "def ver():\n",
        "\tprint(\"su saldo es\" , monto)\n",
        "ver()\n",
        " \n",
        " \n",
        " \n",
        " \n",
        " \n",
        " \n",
        "sin def\n",
        " \n",
        " \n",
        " \n",
        " \n",
        "\"\"\"cajero automatico\"\"\"\n",
        "import os\n",
        "name=\"claudio\"\n",
        "print(\"bienvenido\")\n",
        " \n",
        "contra = \"5467\"\n",
        " \n",
        "pasword=int(input(\"ingrese su contraseña:\"))\n",
        " \n",
        " \n",
        " \n",
        "if pasword == contra:\n",
        "\tprint(\"contraseña correcta\",\"bienvenido\",name)\n",
        " \n",
        " \n",
        "else:\n",
        "\tprint(\"contraseña incorrecta\")\n",
        " \n",
        " \n",
        " \n",
        " \n",
        "\"\"\"menu\"\"\"\n",
        "os.system(\"cls\")\n",
        "print(\"menu\")\n",
        "print:(\"opcion1. depositar\")\n",
        "print:(\"opcion2. retirar\")\n",
        "print:(\"opcion2. ver saldo\")\n",
        "opcion= int (input(\"escoja opcion: \"))\n",
        " \n",
        " \n",
        "os.system(\"cls\")\n",
        " \n",
        "#deposito\n",
        "if opcion == 1:\n",
        "\tdepositar=int(input(\"cuanto desea depositar:\"))\n",
        " \n",
        "\tprint(\"usted a depositado\",depositar)\n",
        " \n",
        " \n",
        "#retirar dinero\n",
        "saldo = 500000\n",
        " \n",
        "if opcion==2:\n",
        "\tgiro=int(input(\"cuanto desea retirar:\"))\n",
        "\tprint(\"su saldo actual es\" , saldo - giro)\n",
        "\tprint(\"usted a retirado\" , giro)\n",
        " \n",
        "#ver saldo\n",
        "if opcion==3:\n",
        "\tprint(\"su saldo es\", saldo)"
      ],
      "metadata": {
        "id": "W6uIETzkz5-Z",
        "outputId": "3ed54ba5-586b-4aac-d087-fcabf53bf912",
        "colab": {
          "base_uri": "https://localhost:8080/",
          "height": 130
        }
      },
      "execution_count": null,
      "outputs": [
        {
          "output_type": "error",
          "ename": "SyntaxError",
          "evalue": "ignored",
          "traceback": [
            "\u001b[0;36m  File \u001b[0;32m\"<ipython-input-11-1d8539095e5f>\"\u001b[0;36m, line \u001b[0;32m70\u001b[0m\n\u001b[0;31m    sin def\u001b[0m\n\u001b[0m          ^\u001b[0m\n\u001b[0;31mSyntaxError\u001b[0m\u001b[0;31m:\u001b[0m invalid syntax\n"
          ]
        }
      ]
    }
  ]
}