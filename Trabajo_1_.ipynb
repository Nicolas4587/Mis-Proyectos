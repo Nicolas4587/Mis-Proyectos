{
  "nbformat": 4,
  "nbformat_minor": 0,
  "metadata": {
    "colab": {
      "name": "Trabajo 1. ",
      "provenance": []
    },
    "kernelspec": {
      "name": "python3",
      "display_name": "Python 3"
    },
    "language_info": {
      "name": "python"
    }
  },
  "cells": [
    {
      "cell_type": "code",
      "execution_count": 31,
      "metadata": {
        "colab": {
          "base_uri": "https://localhost:8080/"
        },
        "id": "BHfFgBGdj5L5",
        "outputId": "2fa7e38a-31ab-484e-ecc9-0b3ddbe8c8e8"
      },
      "outputs": [
        {
          "name": "stdout",
          "output_type": "stream",
          "text": [
            "Dime tu codigo de la universidad:5\n"
          ]
        }
      ],
      "source": [
        "\n",
        "def main():\n",
        "  print(\"Codigos de la Univerisdad\")\n",
        "a=int(input( \"Dime tu codigo de la universidad:\"))\n",
        "\n",
        "if respuesta == \n",
        "\n",
        "\n",
        "\n",
        "\n",
        "\n",
        "\n"
      ]
    },
    {
      "cell_type": "code",
      "source": [
        "n=int(input(\"introduce un numero para dividir:\"))\n",
        "m=int(input(\"introduce el otro numero que va hacer el que divide: \"))\n",
        "d=n/m\n",
        "print(\"La respuesta es \", d ,)\n",
        "\n",
        "\n",
        "\n",
        "\n"
      ],
      "metadata": {
        "colab": {
          "base_uri": "https://localhost:8080/"
        },
        "id": "JsZvBwFOy32s",
        "outputId": "fc4fb1e5-bdc4-4303-d40a-a2fbc74eec1f"
      },
      "execution_count": 34,
      "outputs": [
        {
          "output_type": "stream",
          "name": "stdout",
          "text": [
            "introduce un numero para dividir:50\n",
            "introduce el otro numero que va hacer el que divide: 5\n",
            "La respuesta es  10.0\n"
          ]
        }
      ]
    }
  ]
}