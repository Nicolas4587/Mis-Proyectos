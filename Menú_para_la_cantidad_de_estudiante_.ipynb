{
  "nbformat": 4,
  "nbformat_minor": 0,
  "metadata": {
    "colab": {
      "provenance": []
    },
    "kernelspec": {
      "name": "python3",
      "display_name": "Python 3"
    },
    "language_info": {
      "name": "python"
    }
  },
  "cells": [
    {
      "cell_type": "code",
      "execution_count": 7,
      "metadata": {
        "colab": {
          "base_uri": "https://localhost:8080/",
          "height": 130
        },
        "id": "D8r915e0GCj9",
        "outputId": "9f9ef97d-75d0-40d0-a9ce-86f48f5682da"
      },
      "outputs": [
        {
          "output_type": "error",
          "ename": "IndentationError",
          "evalue": "ignored",
          "traceback": [
            "\u001b[0;36m  File \u001b[0;32m\"<tokenize>\"\u001b[0;36m, line \u001b[0;32m15\u001b[0m\n\u001b[0;31m    print(\"sumatoria\")\u001b[0m\n\u001b[0m    ^\u001b[0m\n\u001b[0;31mIndentationError\u001b[0m\u001b[0;31m:\u001b[0m unindent does not match any outer indentation level\n"
          ]
        }
      ],
      "source": [
        "\n",
        "diccionarios={\"gato\":\"Daniel\",\"Eduardo\":False}\n",
        "for i == (\"Daniel\",\"Eduardo\":[],\"gato\"_[]):\n",
        "option = int(input(\"cuantas notas debe tener:?\"))\n",
        "  l=-1\n",
        "  while l <= option:\n",
        "     l=int(input(\"ingresa la primera nota cual es la del primer personaje:\"))\n",
        "     dic1[i]=l\n",
        "     l=l+1 \n",
        "  print(\"dic1\")\n",
        "\n",
        "\n",
        "\n",
        "  print(\"las notas de cada uno de los estudiantes son\",dic1)\n",
        "  sumatoria = (dic1.get(\"Daniel \")+dic1.get(\"Eduardo\")+dic1.get(\"gato\"))/3\n",
        "  print(sumatoria)\n",
        "if dic1.get(\"Daniel\")<dic1.get(\"Eduardo\") and dic1.get(\"gato\")<dic1.get(\"gato\") and dic1.get(\"Eduardo\")>dic1.get(\"gato\"):\n",
        "   print(\"Daniel es el estudiante con la peor mala nota y el estudiante con la  mejor nota es la del estudiante Eduardo\")"
      ]
    }
  ]
}