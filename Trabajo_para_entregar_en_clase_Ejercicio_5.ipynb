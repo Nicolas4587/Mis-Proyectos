{
  "nbformat": 4,
  "nbformat_minor": 0,
  "metadata": {
    "colab": {
      "provenance": []
    },
    "kernelspec": {
      "name": "python3",
      "display_name": "Python 3"
    },
    "language_info": {
      "name": "python"
    }
  },
  "cells": [
    {
      "cell_type": "code",
      "execution_count": null,
      "metadata": {
        "id": "we2OZcT2wrAU"
      },
      "outputs": [],
      "source": [
        "from os import X_OK\n",
        "lista=[]\n",
        "for x in range(20):\n",
        "    valor=int(input(\"Ingresa un numero :\"))\n",
        "    lista.append(valor)\n",
        "\n",
        "mayor=lista[0]\n",
        "for x in range(1,20):\n",
        "    if lista[x]>mayor:\n",
        "        mayor=lista[x]\n",
        "\n",
        "menor=lista[0]\n",
        "for x in range(1,20):\n",
        "    if lista[x]<menor:\n",
        "        menor=lista[x]        \n",
        "\n",
        "print(\"La Lista esta  completa\")\n",
        "print(lista)\n",
        "print(\"El numero mayor de la lista es\",)\n",
        "print(mayor)\n",
        "print(\"El numero menor de la lista es\",)\n",
        "print(menor)"
      ]
    }
  ]
}