{
  "nbformat": 4,
  "nbformat_minor": 0,
  "metadata": {
    "colab": {
      "provenance": []
    },
    "kernelspec": {
      "name": "python3",
      "display_name": "Python 3"
    },
    "language_info": {
      "name": "python"
    }
  },
  "cells": [
    {
      "cell_type": "code",
      "execution_count": null,
      "metadata": {
        "colab": {
          "base_uri": "https://localhost:8080/"
        },
        "id": "BHfFgBGdj5L5",
        "outputId": "2fa7e38a-31ab-484e-ecc9-0b3ddbe8c8e8"
      },
      "outputs": [
        {
          "name": "stdout",
          "output_type": "stream",
          "text": [
            "Dime tu codigo de la universidad:5\n"
          ]
        }
      ],
      "source": [
        "\n",
        "def main():\n",
        "  print(\"Codigos de la Univerisdad\")\n",
        "a=int(input( \"Dime tu codigo de la universidad:\"))\n",
        "\n",
        "\n",
        "\n",
        "\n",
        "\n",
        "\n",
        "\n"
      ]
    },
    {
      "cell_type": "markdown",
      "source": [
        "##EJERCICIO 1. "
      ],
      "metadata": {
        "id": "Ik4vy0UxQbkb"
      }
    },
    {
      "cell_type": "code",
      "source": [
        "n=int(input(\"introduce un numero para dividir:\"))\n",
        "m=int(input(\"introduce el otro numero que va hacer el que divide: \"))\n",
        "d=n/m\n",
        "print(\"La respuesta es \", d ,)\n",
        "\n",
        "X=int(input(\"ingresa un numero dividendo\"))\n",
        "c=int(input(\"ingresa un numero divisor\"))\n",
        "if c ==0:\n",
        "  print(\"el resultado es indeterminado porque el divisor es 0\")\n",
        "else:\n",
        "   v=(x/c)\n",
        "   print(\"el resultado es la division es \", v)\n",
        "   b=(x % c)\n",
        "   if b==0:\n",
        "    print(\"la division es exacta porque el modul da\",b)\n",
        "   else:\n",
        "       print(\"la division no es exacta porque el modulo da\", b )  \n",
        "\n",
        "\n",
        "\n",
        "\n",
        "\n"
      ],
      "metadata": {
        "colab": {
          "base_uri": "https://localhost:8080/",
          "height": 321
        },
        "id": "JsZvBwFOy32s",
        "outputId": "8f14b61e-be9d-4ee5-9588-4e86906def5e"
      },
      "execution_count": null,
      "outputs": [
        {
          "name": "stdout",
          "output_type": "stream",
          "text": [
            "introduce un numero para dividir:68\n",
            "introduce el otro numero que va hacer el que divide: 45\n",
            "La respuesta es  1.511111111111111\n",
            "ingresa un numero dividendo25\n",
            "ingresa un numero divisor45\n"
          ]
        },
        {
          "output_type": "error",
          "ename": "NameError",
          "evalue": "ignored",
          "traceback": [
            "\u001b[0;31m---------------------------------------------------------------------------\u001b[0m",
            "\u001b[0;31mNameError\u001b[0m                                 Traceback (most recent call last)",
            "\u001b[0;32m<ipython-input-3-3f1769adc1ae>\u001b[0m in \u001b[0;36m<module>\u001b[0;34m\u001b[0m\n\u001b[1;32m      9\u001b[0m   \u001b[0mprint\u001b[0m\u001b[0;34m(\u001b[0m\u001b[0;34m\"el resultado es indeterminado porque el divisor es 0\"\u001b[0m\u001b[0;34m)\u001b[0m\u001b[0;34m\u001b[0m\u001b[0;34m\u001b[0m\u001b[0m\n\u001b[1;32m     10\u001b[0m \u001b[0;32melse\u001b[0m\u001b[0;34m:\u001b[0m\u001b[0;34m\u001b[0m\u001b[0;34m\u001b[0m\u001b[0m\n\u001b[0;32m---> 11\u001b[0;31m    \u001b[0mv\u001b[0m\u001b[0;34m=\u001b[0m\u001b[0;34m(\u001b[0m\u001b[0mx\u001b[0m\u001b[0;34m/\u001b[0m\u001b[0mc\u001b[0m\u001b[0;34m)\u001b[0m\u001b[0;34m\u001b[0m\u001b[0;34m\u001b[0m\u001b[0m\n\u001b[0m\u001b[1;32m     12\u001b[0m    \u001b[0mprint\u001b[0m\u001b[0;34m(\u001b[0m\u001b[0;34m\"el resultado es la division es \"\u001b[0m\u001b[0;34m,\u001b[0m \u001b[0mv\u001b[0m\u001b[0;34m)\u001b[0m\u001b[0;34m\u001b[0m\u001b[0;34m\u001b[0m\u001b[0m\n\u001b[1;32m     13\u001b[0m    \u001b[0mb\u001b[0m\u001b[0;34m=\u001b[0m\u001b[0;34m(\u001b[0m\u001b[0mx\u001b[0m\u001b[0;34m%\u001b[0m\u001b[0mc\u001b[0m\u001b[0;34m)\u001b[0m\u001b[0;34m\u001b[0m\u001b[0;34m\u001b[0m\u001b[0m\n",
            "\u001b[0;31mNameError\u001b[0m: name 'x' is not defined"
          ]
        }
      ]
    },
    {
      "cell_type": "markdown",
      "source": [
        "##EJERCICIO 2."
      ],
      "metadata": {
        "id": "5bedzckqSbFm"
      }
    },
    {
      "cell_type": "code",
      "source": [
        "\n",
        "n=(input(\"introduce el primer numero: \"))\n",
        "m=(input(\"introduce el segundo numero: \"))\n",
        "if num1 % num2 == 0:\n",
        "   print(\"el numero\",num1, \"es multiplo del numero\", num2)\n",
        "elif num2 % num1 == 0:\n",
        "   print(\"el numero\", num2, \"es multiplo del numero\", num1)\n",
        "else:\n",
        "   print(\"los numeros no son multiplos\")  \n",
        "\n",
        "\n",
        "\n",
        "  \n"
      ],
      "metadata": {
        "colab": {
          "base_uri": "https://localhost:8080/",
          "height": 130
        },
        "id": "r64pRELJdU_I",
        "outputId": "106d8f52-4c83-4a9c-cdfb-13dbf97ffd28"
      },
      "execution_count": null,
      "outputs": [
        {
          "output_type": "error",
          "ename": "IndentationError",
          "evalue": "ignored",
          "traceback": [
            "\u001b[0;36m  File \u001b[0;32m\"<tokenize>\"\u001b[0;36m, line \u001b[0;32m12\u001b[0m\n\u001b[0;31m    print(\"la respuesta es \",  )\u001b[0m\n\u001b[0m    ^\u001b[0m\n\u001b[0;31mIndentationError\u001b[0m\u001b[0;31m:\u001b[0m unindent does not match any outer indentation level\n"
          ]
        }
      ]
    },
    {
      "cell_type": "markdown",
      "source": [
        "## EJERCICIO 3."
      ],
      "metadata": {
        "id": "csn1HIqUVSRb"
      }
    },
    {
      "cell_type": "code",
      "source": [
        "e1=int(input(\"ingresar la primera edad:\"))##edades\n",
        "e2=int(input(\"ingresar la segunda edad:\"))\n",
        "e3=int(input(\"ingresar la tercera edad: \"))\n",
        "\n",
        "edades=[e1,e2,e3] ##lista\n",
        "print(\"la edad del menor es\",min(edades), \"edad\") \n",
        "print(\"la edad del menor es\", (e1+e2+e3)-min(edades)-max(edades),\"edad\")\n",
        "print(\"la edad del menor es\",max(edades), \"edad\") \n",
        "\n",
        "if e1==e2 and e1==e3:\n",
        "  print(\"son trillizos\")\n",
        "\n",
        "if e1==e2:\n",
        "  print(e1,\"y\",e3,\"son gemelos y su edad es\", e1)\n",
        "  if e1>e2:\n",
        "    print(\"el menor es\", e2)\n",
        "  else:\n",
        "    print(\"el mayor es\", e2)\n",
        "\n",
        "if e1==e2:\n",
        "  print(e2,\"y\",e3,\"son gemelos y su edad es\", e1)\n",
        "  if e2>e1:\n",
        "    print(\"el menor es\", e1)\n",
        "  else:\n",
        "    print(\"el mayor es\", e1)\n",
        "\n",
        "\n",
        "\n",
        "\n",
        "\n",
        "\n",
        "\n"
      ],
      "metadata": {
        "colab": {
          "base_uri": "https://localhost:8080/"
        },
        "id": "K2p3XZ9uVXh6",
        "outputId": "36e6ad88-d926-4c07-815f-9aefee275c32"
      },
      "execution_count": null,
      "outputs": [
        {
          "output_type": "stream",
          "name": "stdout",
          "text": [
            "ingresar la primera edad:5\n",
            "ingresar la segunda edad:2\n",
            "ingresar la tercera edad:1\n",
            "la edad del menor es 1 edad\n",
            "la edad del menor es 2 edad\n",
            "la edad del menor es 5 edad\n"
          ]
        }
      ]
    }
  ]
}